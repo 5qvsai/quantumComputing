{
 "cells": [
  {
   "cell_type": "code",
   "execution_count": 1,
   "id": "b41b7df3-40fc-4d9b-a658-c4c69f983945",
   "metadata": {},
   "outputs": [],
   "source": [
    "from qiskit.circuit import QuantumCircuit, QuantumRegister"
   ]
  },
  {
   "cell_type": "markdown",
   "id": "80c23e45-fc40-4225-b918-6419d9c369d4",
   "metadata": {},
   "source": [
    "Question 1 . Which statement will create a quantum circuit with four quantum\n",
    "\n",
    "bits and four classical bits?\n",
    "\n",
    "A. QuantumCircuit(4, 4)\n",
    "\n",
    "B. QuantumCircuit(4)\n",
    "\n",
    "C. QuantumCircuit(QuantumRegister(4, 'qr0'),  QuantumRegister(4, 'cr1'))\n",
    "\n",
    "D. QuantumCircuit([4, 4])\n"
   ]
  },
  {
   "cell_type": "markdown",
   "id": "9d048875-3acb-4d6c-af16-5f393223d74a",
   "metadata": {},
   "source": [
    "Option A creates 4 qubits and 4 classical bits"
   ]
  },
  {
   "cell_type": "markdown",
   "id": "8b9bc0bf-86bd-4e7a-a595-cf36b8a8e3fa",
   "metadata": {},
   "source": [
    "circuitA creates only quantum bits"
   ]
  },
  {
   "cell_type": "code",
   "execution_count": 2,
   "id": "b452933f-e3e8-42b2-a2a0-2476a783835f",
   "metadata": {},
   "outputs": [],
   "source": [
    "circuitA = QuantumCircuit(4,4)"
   ]
  },
  {
   "cell_type": "code",
   "execution_count": 3,
   "id": "b4720cb6-69c8-4496-9bd2-33adee16b7f2",
   "metadata": {},
   "outputs": [
    {
     "data": {
      "text/html": [
       "<pre style=\"word-wrap: normal;white-space: pre;background: #fff0;line-height: 1.1;font-family: &quot;Courier New&quot;,Courier,monospace\">     \n",
       "q_0: \n",
       "     \n",
       "q_1: \n",
       "     \n",
       "q_2: \n",
       "     \n",
       "q_3: \n",
       "     \n",
       "c: 4/\n",
       "     </pre>"
      ],
      "text/plain": [
       "     \n",
       "q_0: \n",
       "     \n",
       "q_1: \n",
       "     \n",
       "q_2: \n",
       "     \n",
       "q_3: \n",
       "     \n",
       "c: 4/\n",
       "     "
      ]
     },
     "execution_count": 3,
     "metadata": {},
     "output_type": "execute_result"
    }
   ],
   "source": [
    "circuitA.draw()"
   ]
  },
  {
   "cell_type": "code",
   "execution_count": 4,
   "id": "c3637eca-fbac-475c-9228-0ac9de237aa5",
   "metadata": {},
   "outputs": [
    {
     "name": "stdout",
     "output_type": "stream",
     "text": [
      " The circuitA circuit has classical registry parameters : [ClassicalRegister(4, 'c')]  and quantum registry parametrs : [QuantumRegister(4, 'q')]\n"
     ]
    }
   ],
   "source": [
    "print(f\" The circuitA circuit has classical registry parameters : {circuitA.cregs}  and quantum registry parametrs : {circuitA.qregs}\" )"
   ]
  },
  {
   "cell_type": "markdown",
   "id": "f5d2c18f-eef2-4a3a-86b5-6fdc1a37bf0e",
   "metadata": {},
   "source": [
    "Option B creates only 4 qubits"
   ]
  },
  {
   "cell_type": "code",
   "execution_count": 5,
   "id": "889baf80-c150-463e-84d6-7830a426e34c",
   "metadata": {},
   "outputs": [],
   "source": [
    "circuitB = QuantumCircuit(4)"
   ]
  },
  {
   "cell_type": "code",
   "execution_count": 6,
   "id": "86bb315a-1e63-41ab-96d4-fbb6041b039a",
   "metadata": {},
   "outputs": [
    {
     "data": {
      "text/html": [
       "<pre style=\"word-wrap: normal;white-space: pre;background: #fff0;line-height: 1.1;font-family: &quot;Courier New&quot;,Courier,monospace\">     \n",
       "q_0: \n",
       "     \n",
       "q_1: \n",
       "     \n",
       "q_2: \n",
       "     \n",
       "q_3: \n",
       "     </pre>"
      ],
      "text/plain": [
       "     \n",
       "q_0: \n",
       "     \n",
       "q_1: \n",
       "     \n",
       "q_2: \n",
       "     \n",
       "q_3: \n",
       "     "
      ]
     },
     "execution_count": 6,
     "metadata": {},
     "output_type": "execute_result"
    }
   ],
   "source": [
    "circuitB.draw()"
   ]
  },
  {
   "cell_type": "code",
   "execution_count": 7,
   "id": "69c104a7-47e4-4c1a-8ce2-5f6d0ec34402",
   "metadata": {},
   "outputs": [
    {
     "name": "stdout",
     "output_type": "stream",
     "text": [
      " The circuitB circuit has classical registry parameters : []  and quantum registry parametrs : [QuantumRegister(4, 'q')]\n"
     ]
    }
   ],
   "source": [
    "print(f\" The circuitB circuit has classical registry parameters : {circuitB.cregs}  and quantum registry parametrs : {circuitB.qregs}\" )"
   ]
  },
  {
   "cell_type": "code",
   "execution_count": 8,
   "id": "ccf5a475-d2c6-43de-bd85-48a7eba70822",
   "metadata": {},
   "outputs": [],
   "source": [
    "circuitC = QuantumCircuit(QuantumRegister(4, 'gr0'), QuantumRegister(4, 'cr1'))"
   ]
  },
  {
   "cell_type": "code",
   "execution_count": 9,
   "id": "75af39d4-c8c9-41f7-bb31-c4809c9276dc",
   "metadata": {},
   "outputs": [
    {
     "data": {
      "text/html": [
       "<pre style=\"word-wrap: normal;white-space: pre;background: #fff0;line-height: 1.1;font-family: &quot;Courier New&quot;,Courier,monospace\">       \n",
       "gr0_0: \n",
       "       \n",
       "gr0_1: \n",
       "       \n",
       "gr0_2: \n",
       "       \n",
       "gr0_3: \n",
       "       \n",
       "cr1_0: \n",
       "       \n",
       "cr1_1: \n",
       "       \n",
       "cr1_2: \n",
       "       \n",
       "cr1_3: \n",
       "       </pre>"
      ],
      "text/plain": [
       "       \n",
       "gr0_0: \n",
       "       \n",
       "gr0_1: \n",
       "       \n",
       "gr0_2: \n",
       "       \n",
       "gr0_3: \n",
       "       \n",
       "cr1_0: \n",
       "       \n",
       "cr1_1: \n",
       "       \n",
       "cr1_2: \n",
       "       \n",
       "cr1_3: \n",
       "       "
      ]
     },
     "execution_count": 9,
     "metadata": {},
     "output_type": "execute_result"
    }
   ],
   "source": [
    "circuitC.draw()"
   ]
  },
  {
   "cell_type": "code",
   "execution_count": 10,
   "id": "69512070-115e-4d06-a42f-fcf6268aa086",
   "metadata": {},
   "outputs": [
    {
     "name": "stdout",
     "output_type": "stream",
     "text": [
      " The circuitC circuit has classical registry parameters : []  and quantum registry parametrs : [QuantumRegister(4, 'gr0'), QuantumRegister(4, 'cr1')]\n"
     ]
    }
   ],
   "source": [
    "print(f\" The circuitC circuit has classical registry parameters : {circuitC.cregs}  and quantum registry parametrs : {circuitC.qregs}\" )"
   ]
  },
  {
   "cell_type": "code",
   "execution_count": 11,
   "id": "181b4c61-5ab6-4a76-80f2-c028e6846b9a",
   "metadata": {},
   "outputs": [],
   "source": [
    "#circuitD = QuantumCircuit([4, 4]) "
   ]
  },
  {
   "cell_type": "markdown",
   "id": "ade41464-63f0-4bbe-8031-9ee89c009734",
   "metadata": {},
   "source": [
    "And circuitD triggers error, uncomment the line above to observe the error."
   ]
  }
 ],
 "metadata": {
  "kernelspec": {
   "display_name": "Python 3 (ipykernel)",
   "language": "python",
   "name": "python3"
  },
  "language_info": {
   "codemirror_mode": {
    "name": "ipython",
    "version": 3
   },
   "file_extension": ".py",
   "mimetype": "text/x-python",
   "name": "python",
   "nbconvert_exporter": "python",
   "pygments_lexer": "ipython3",
   "version": "3.11.5"
  }
 },
 "nbformat": 4,
 "nbformat_minor": 5
}
