{
 "cells": [
  {
   "cell_type": "code",
   "execution_count": 1,
   "id": "65ab1f67-81c1-4e5b-9e22-72891ea9bf06",
   "metadata": {},
   "outputs": [],
   "source": [
    "#run on real quantum hardware - Sampler"
   ]
  },
  {
   "cell_type": "code",
   "execution_count": 2,
   "id": "b26946b1-3553-4014-979d-e9b7b1f23035",
   "metadata": {},
   "outputs": [],
   "source": [
    "from qiskit.circuit.library import IQP\n",
    "from qiskit.quantum_info import random_hermitian\n",
    "from qiskit_ibm_runtime import QiskitRuntimeService, SamplerV2 as Sampler\n",
    "from qiskit.transpiler.preset_passmanagers import generate_preset_pass_manager\n",
    "\n",
    "import numpy as np"
   ]
  },
  {
   "cell_type": "code",
   "execution_count": 3,
   "id": "270d7f3a-bbfe-4f7c-93fe-4d5e0019d82c",
   "metadata": {},
   "outputs": [],
   "source": [
    "service = QiskitRuntimeService()"
   ]
  },
  {
   "cell_type": "code",
   "execution_count": 4,
   "id": "19ef2f16-e218-4427-94f7-a53c416a3a6c",
   "metadata": {},
   "outputs": [],
   "source": [
    "backend = service.least_busy(simulator=False, operational=True, min_num_qubits=100)"
   ]
  },
  {
   "cell_type": "code",
   "execution_count": 5,
   "id": "0b7ffecb-7ea0-4eef-8a86-5202f1854d87",
   "metadata": {},
   "outputs": [],
   "source": [
    "n_qubits = 127"
   ]
  },
  {
   "cell_type": "code",
   "execution_count": 6,
   "id": "79c7166b-02d7-45ca-abac-2654d0b60b50",
   "metadata": {},
   "outputs": [],
   "source": [
    "mat = np.real(random_hermitian(n_qubits, seed=1234))\n",
    "circuit = IQP(mat)\n",
    "circuit.measure_all()"
   ]
  },
  {
   "cell_type": "code",
   "execution_count": 7,
   "id": "905b8dd1-ce8d-456e-bdd4-87613003506f",
   "metadata": {},
   "outputs": [],
   "source": [
    "pm = generate_preset_pass_manager(backend=backend, optimization_level=1)\n",
    "isa_circuit = pm.run(circuit)"
   ]
  },
  {
   "cell_type": "code",
   "execution_count": 8,
   "id": "5909e36f-ef42-4840-a26c-ad23529b0ead",
   "metadata": {},
   "outputs": [],
   "source": [
    "sampler = Sampler(backend)\n",
    "job = sampler.run([isa_circuit])\n",
    "result = job.result()"
   ]
  },
  {
   "cell_type": "code",
   "execution_count": 9,
   "id": "90962232-8ac9-41e9-84b4-b3db0e78baba",
   "metadata": {},
   "outputs": [
    {
     "name": "stdout",
     "output_type": "stream",
     "text": [
      "done\n"
     ]
    }
   ],
   "source": [
    "print(\"done\")"
   ]
  }
 ],
 "metadata": {
  "kernelspec": {
   "display_name": "Python 3 (ipykernel)",
   "language": "python",
   "name": "python3"
  },
  "language_info": {
   "codemirror_mode": {
    "name": "ipython",
    "version": 3
   },
   "file_extension": ".py",
   "mimetype": "text/x-python",
   "name": "python",
   "nbconvert_exporter": "python",
   "pygments_lexer": "ipython3",
   "version": "3.11.5"
  }
 },
 "nbformat": 4,
 "nbformat_minor": 5
}
