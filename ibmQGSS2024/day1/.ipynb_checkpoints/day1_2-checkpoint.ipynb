{
 "cells": [
  {
   "cell_type": "code",
   "execution_count": 1,
   "id": "65ab1f67-81c1-4e5b-9e22-72891ea9bf06",
   "metadata": {},
   "outputs": [],
   "source": [
    "#Transpile example"
   ]
  },
  {
   "cell_type": "code",
   "execution_count": 2,
   "id": "b26946b1-3553-4014-979d-e9b7b1f23035",
   "metadata": {},
   "outputs": [],
   "source": [
    "from qiskit import QuantumCircuit, QuantumRegister\n",
    "from qiskit.transpiler.preset_passmanagers import generate_preset_pass_manager\n",
    "from qiskit_ibm_runtime import QiskitRuntimeService"
   ]
  },
  {
   "cell_type": "code",
   "execution_count": 3,
   "id": "65ae146b-6c0b-4055-8875-229b8bc8c193",
   "metadata": {},
   "outputs": [],
   "source": [
    "qubits = QuantumRegister(2, name=\"q\")\n",
    "circuit = QuantumCircuit(qubits)"
   ]
  },
  {
   "cell_type": "code",
   "execution_count": 4,
   "id": "3759d15c-30ce-47ce-a089-5f44ce7ef598",
   "metadata": {},
   "outputs": [
    {
     "data": {
      "text/plain": [
       "<qiskit.circuit.instructionset.InstructionSet at 0x7026bad47a60>"
      ]
     },
     "execution_count": 4,
     "metadata": {},
     "output_type": "execute_result"
    }
   ],
   "source": [
    "q0, q1 = qubits\n",
    "circuit.h(q0)\n",
    "circuit.cx(q0, q1)"
   ]
  },
  {
   "cell_type": "code",
   "execution_count": 5,
   "id": "270d7f3a-bbfe-4f7c-93fe-4d5e0019d82c",
   "metadata": {},
   "outputs": [],
   "source": [
    "service = QiskitRuntimeService()"
   ]
  },
  {
   "cell_type": "code",
   "execution_count": 6,
   "id": "19ef2f16-e218-4427-94f7-a53c416a3a6c",
   "metadata": {},
   "outputs": [
    {
     "data": {
      "text/plain": [
       "[<IBMBackend('ibm_brisbane')>,\n",
       " <IBMBackend('ibm_kyoto')>,\n",
       " <IBMBackend('ibm_osaka')>,\n",
       " <IBMBackend('ibm_sherbrooke')>]"
      ]
     },
     "execution_count": 6,
     "metadata": {},
     "output_type": "execute_result"
    }
   ],
   "source": [
    "#to find real backends on ibm and filter by specific properties( same as the quantum processing units list on https://quantum.ibm.com/services/resources?resourceType=current-instance)\n",
    "service.backends(simulator=False, operational=True, min_num_qubits=100)"
   ]
  },
  {
   "cell_type": "code",
   "execution_count": 7,
   "id": "e9ccf94a-86b6-40ce-a31b-7cc8e245ea6a",
   "metadata": {},
   "outputs": [
    {
     "data": {
      "text/plain": [
       "<IBMBackend('ibm_sherbrooke')>"
      ]
     },
     "execution_count": 7,
     "metadata": {},
     "output_type": "execute_result"
    }
   ],
   "source": [
    "#filter least busy\n",
    "service.least_busy(operational=True)"
   ]
  },
  {
   "cell_type": "code",
   "execution_count": 8,
   "id": "c52d97df-b44b-430e-a3de-03115b8f7aa5",
   "metadata": {},
   "outputs": [
    {
     "name": "stdout",
     "output_type": "stream",
     "text": [
      "Name: ibm_sherbrooke\n",
      "Version: 2\n",
      "No. of qubits: 127\n",
      "\n"
     ]
    }
   ],
   "source": [
    "backendlb =service.least_busy()\n",
    " \n",
    "print(\n",
    "    f\"Name: {backendlb.name}\\n\"\n",
    "    f\"Version: {backendlb.version}\\n\"\n",
    "    f\"No. of qubits: {backendlb.num_qubits}\\n\"\n",
    ")"
   ]
  },
  {
   "cell_type": "code",
   "execution_count": 9,
   "id": "ca294ff1-1290-4078-aa62-3e7b06fb2566",
   "metadata": {},
   "outputs": [],
   "source": [
    "service = QiskitRuntimeService()\n",
    "backend = service.backend(\"ibm_sherbrooke\")\n",
    "pass_manager = generate_preset_pass_manager(optimization_level=3, backend=backend)\n",
    "isa_circuit = pass_manager.run(circuit)"
   ]
  },
  {
   "cell_type": "code",
   "execution_count": 10,
   "id": "63265bfe-ed00-4c11-acbe-f73d7ebe5559",
   "metadata": {},
   "outputs": [
    {
     "data": {
      "image/png": "[encoded data removed]",
      "text/plain": [
       "<Figure size 609.242x200.667 with 1 Axes>"
      ]
     },
     "execution_count": 10,
     "metadata": {},
     "output_type": "execute_result"
    }
   ],
   "source": [
    "isa_circuit.draw(\"mpl\", idle_wires = False)"
   ]
  },
  {
   "cell_type": "code",
   "execution_count": null,
   "id": "0b7ffecb-7ea0-4eef-8a86-5202f1854d87",
   "metadata": {},
   "outputs": [],
   "source": []
  },
  {
   "cell_type": "code",
   "execution_count": null,
   "id": "79c7166b-02d7-45ca-abac-2654d0b60b50",
   "metadata": {},
   "outputs": [],
   "source": []
  }
 ],
 "metadata": {
  "kernelspec": {
   "display_name": "Python 3 (ipykernel)",
   "language": "python",
   "name": "python3"
  },
  "language_info": {
   "codemirror_mode": {
    "name": "ipython",
    "version": 3
   },
   "file_extension": ".py",
   "mimetype": "text/x-python",
   "name": "python",
   "nbconvert_exporter": "python",
   "pygments_lexer": "ipython3",
   "version": "3.11.5"
  }
 },
 "nbformat": 4,
 "nbformat_minor": 5
}
